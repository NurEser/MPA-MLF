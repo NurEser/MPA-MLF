{
  "nbformat": 4,
  "nbformat_minor": 0,
  "metadata": {
    "colab": {
      "provenance": []
    },
    "kernelspec": {
      "name": "python3",
      "display_name": "Python 3"
    },
    "language_info": {
      "name": "python"
    },
    "accelerator": "TPU"
  },
  "cells": [
    {
      "cell_type": "code",
      "execution_count": null,
      "metadata": {
        "id": "UKh8rk1cwgMO"
      },
      "outputs": [],
      "source": [
        "import pandas as pd\n",
        "import os\n",
        "import numpy as np\n",
        "from PIL import Image\n",
        "from natsort import natsorted\n"
      ]
    },
    {
      "cell_type": "code",
      "source": [
        "from google.colab import drive\n",
        "drive.mount('/content/drive')"
      ],
      "metadata": {
        "id": "BWLhZoLH46UA"
      },
      "execution_count": null,
      "outputs": []
    },
    {
      "cell_type": "code",
      "source": [
        "!unzip \"/content/drive/MyDrive/Final_project_Data/train_data_unlabeled.zip\" -d \"./train_data\"\n"
      ],
      "metadata": {
        "id": "21o-IfXy478a"
      },
      "execution_count": null,
      "outputs": []
    },
    {
      "cell_type": "code",
      "source": [
        "!ls \"./train_data/train_data_unlabeled\"\n"
      ],
      "metadata": {
        "id": "uX3bgoL049HZ"
      },
      "execution_count": null,
      "outputs": []
    },
    {
      "cell_type": "code",
      "source": [
        "y_train_csv = '/content/drive/MyDrive/Final_project_Data/y_train.csv'\n",
        "y_train_df = pd.read_csv(y_train_csv)"
      ],
      "metadata": {
        "id": "YHJLRrZj4-nf"
      },
      "execution_count": null,
      "outputs": []
    },
    {
      "cell_type": "code",
      "source": [
        "y_train_df"
      ],
      "metadata": {
        "id": "7esfIJMO5Bbc"
      },
      "execution_count": null,
      "outputs": []
    },
    {
      "cell_type": "code",
      "source": [
        "labels = y_train_df['target'].values\n"
      ],
      "metadata": {
        "id": "cwRJ0Ahy5CpT"
      },
      "execution_count": null,
      "outputs": []
    },
    {
      "cell_type": "code",
      "source": [
        "labels = np.array(labels)"
      ],
      "metadata": {
        "id": "ZjgYtv575YRZ"
      },
      "execution_count": null,
      "outputs": []
    },
    {
      "cell_type": "code",
      "source": [
        "train_path = '/content/train_data/train_data_unlabeled'"
      ],
      "metadata": {
        "id": "8xwK_vZP5Eb5"
      },
      "execution_count": null,
      "outputs": []
    },
    {
      "cell_type": "code",
      "source": [
        "image_filenames = natsorted(os.listdir(train_path))\n"
      ],
      "metadata": {
        "id": "riqHDm1q5L9Z"
      },
      "execution_count": null,
      "outputs": []
    },
    {
      "cell_type": "code",
      "source": [
        "images = []\n",
        "\n",
        "sum_channels = np.zeros(3)\n",
        "sum_squares_channels = np.zeros(3)\n",
        "pixel_count = 0\n",
        "\n",
        "for image in image_filenames:\n",
        "    image_path = os.path.join(train_path,image)\n",
        "    img = Image.open(image_path)\n",
        "    img_array = np.array(img, dtype=np.float32)\n",
        "    img_array /= 255.0\n",
        "    rgb_image = img_array[:, :, :3]\n",
        "    images.append(rgb_image)"
      ],
      "metadata": {
        "id": "DTYJG1La5PYq"
      },
      "execution_count": null,
      "outputs": []
    },
    {
      "cell_type": "code",
      "source": [
        "images = np.array(images)"
      ],
      "metadata": {
        "id": "MTLfFv1K5RHE"
      },
      "execution_count": null,
      "outputs": []
    },
    {
      "cell_type": "code",
      "source": [
        "images.shape"
      ],
      "metadata": {
        "id": "-sXSBhCt5SRB"
      },
      "execution_count": null,
      "outputs": []
    },
    {
      "cell_type": "code",
      "source": [
        "from tensorflow.keras.models import Sequential\n",
        "from tensorflow.keras.regularizers import l2\n",
        "from tensorflow.keras.layers import Conv2D, MaxPooling2D, Flatten, Dense, Dropout, BatchNormalization"
      ],
      "metadata": {
        "id": "jZX_5Kpy5T9X"
      },
      "execution_count": null,
      "outputs": []
    },
    {
      "cell_type": "code",
      "source": [
        "model = Sequential([\n",
        "    Conv2D(32, (3, 3), activation='relu', input_shape=(45, 51, 3)),\n",
        "    MaxPooling2D((2, 2)),\n",
        "    Conv2D(64, (3, 3), activation='relu', kernel_regularizer=l2(0.01)),\n",
        "    MaxPooling2D((2, 2)),\n",
        "    Conv2D(128, (3, 3), activation='relu'),\n",
        "    Flatten(),\n",
        "    Dense(128, activation='relu'),\n",
        "    Dropout(0.1),\n",
        "    Dense(4, activation='softmax')\n",
        "])"
      ],
      "metadata": {
        "id": "VdwSj-jG5W0d"
      },
      "execution_count": null,
      "outputs": []
    },
    {
      "cell_type": "code",
      "source": [
        "model.compile(optimizer='adam',\n",
        "              loss='sparse_categorical_crossentropy',\n",
        "              metrics=['accuracy'])\n",
        "\n"
      ],
      "metadata": {
        "id": "LjwggHaq5aFj"
      },
      "execution_count": null,
      "outputs": []
    },
    {
      "cell_type": "code",
      "source": [
        "history = model.fit(images, labels, epochs=5, batch_size=16, validation_split=0.2, verbose=2)"
      ],
      "metadata": {
        "id": "j3f027mM5bCe"
      },
      "execution_count": null,
      "outputs": []
    }
  ]
}